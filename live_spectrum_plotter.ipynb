{
 "cells": [
  {
   "cell_type": "markdown",
   "metadata": {},
   "source": [
    "## Live Spectrum Plotter\n",
    "This notebook contains the code to obtain the frequency spectrum of a live audio signal"
   ]
  },
  {
   "cell_type": "code",
   "execution_count": null,
   "metadata": {},
   "outputs": [],
   "source": [
    "# Importing necessary libraries\n",
    "\n",
    "import numpy as np\n",
    "import matplotlib.pyplot as plt\n",
    "import pyaudio as pya\n",
    "from scipy.fftpack import fft\n",
    "import scipy.io.wavfile as wav\n",
    "import struct\n",
    "import tkinter as tk\n",
    "\n",
    "%matplotlib tk"
   ]
  },
  {
   "cell_type": "code",
   "execution_count": null,
   "metadata": {},
   "outputs": [],
   "source": [
    "fs=44100.0\n",
    "FORMAT=pya.paInt32\n",
    "CHANNELS=1\n",
    "CHUNK=1024\n",
    "\n",
    "p=pya.PyAudio()\n",
    "stream=p.open(rate=int(fs),format=FORMAT,channels=CHANNELS,input=True,output=True,frames_per_buffer=CHUNK)\n",
    "\n",
    "data_i=stream.read(CHUNK)\n",
    "data_u=struct.unpack((CHUNK)*\"i\",data_i)\n",
    "data=np.array(data_u,dtype=np.float64)\n",
    "data=data/data.max()\n",
    "\n",
    "X=fft(data)\n",
    "Xmag=(np.abs(X)/(np.abs(X).max()))[:CHUNK//2]\n",
    "\n",
    "f1=np.linspace(0,1024,CHUNK)\n",
    "f2=np.linspace(0,fs//2,CHUNK//2)\n",
    "\n",
    "fig, (ax1,ax2) = plt.subplots(2)\n",
    "\n",
    "ax1.set_ylim(-3,3)\n",
    "ax1.set_xlim(0,1023)\n",
    "line1, = ax1.plot(f1,data)\n",
    "\n",
    "ax2.set_ylim(0,2)\n",
    "ax2.set_xlim(20,fs//2)\n",
    "line2,=ax2.plot(f2,Xmag)\n",
    "\n",
    "while(True):\n",
    "    data_i=stream.read(CHUNK)\n",
    "    data_u=struct.unpack(CHUNK*\"i\",data_i)\n",
    "    data=np.array(data_u,dtype=np.float64)\n",
    "    x_t=data/data.max()\n",
    "    \n",
    "    X=fft(data)\n",
    "    Xmag=(np.abs(X)/(np.abs(X).max()))[:CHUNK//2]\n",
    "    \n",
    "    line1.set_ydata(x_t)\n",
    "    line2.set_ydata(Xmag)\n",
    "    \n",
    "    fig.canvas.draw()\n",
    "    fig.canvas.flush_events()\n",
    "    "
   ]
  }
 ],
 "metadata": {
  "kernelspec": {
   "display_name": "Python 3",
   "language": "python",
   "name": "python3"
  },
  "language_info": {
   "codemirror_mode": {
    "name": "ipython",
    "version": 3
   },
   "file_extension": ".py",
   "mimetype": "text/x-python",
   "name": "python",
   "nbconvert_exporter": "python",
   "pygments_lexer": "ipython3",
   "version": "3.5.4"
  }
 },
 "nbformat": 4,
 "nbformat_minor": 2
}
